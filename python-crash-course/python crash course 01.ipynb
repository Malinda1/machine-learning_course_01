{
 "cells": [
  {
   "cell_type": "code",
   "execution_count": 1,
   "id": "9a24154e-d41f-4407-892c-5c02b5712405",
   "metadata": {},
   "outputs": [
    {
     "name": "stdout",
     "output_type": "stream",
     "text": [
      "Hello my dear jupyter notebook\n"
     ]
    }
   ],
   "source": [
    "print('Hello my dear jupyter notebook')"
   ]
  },
  {
   "cell_type": "markdown",
   "id": "edd3855d-8d41-43dd-9c41-e4b5ad6cc643",
   "metadata": {},
   "source": [
    "### How can create conda virtual enviroment ?\n",
    "\n",
    "* conda create --name mypython numpy\n",
    "* conda info --envs\n",
    "* activate mypython\n",
    "* deactivate mypython\n"
   ]
  },
  {
   "cell_type": "markdown",
   "id": "d2be2d1a-0d3f-4949-8eed-fcf6c7619f21",
   "metadata": {},
   "source": [
    "## Data type and operation in python"
   ]
  },
  {
   "cell_type": "code",
   "execution_count": 3,
   "id": "a7268e44-3b89-45aa-ae6c-407197c88fec",
   "metadata": {},
   "outputs": [
    {
     "data": {
      "text/plain": [
       "1"
      ]
     },
     "execution_count": 3,
     "metadata": {},
     "output_type": "execute_result"
    }
   ],
   "source": [
    "1 # integer"
   ]
  },
  {
   "cell_type": "code",
   "execution_count": 5,
   "id": "696f5e29-ee20-4e0c-bdca-189b268f498c",
   "metadata": {},
   "outputs": [
    {
     "data": {
      "text/plain": [
       "1.0"
      ]
     },
     "execution_count": 5,
     "metadata": {},
     "output_type": "execute_result"
    }
   ],
   "source": [
    "1.0 # Float"
   ]
  },
  {
   "cell_type": "code",
   "execution_count": 7,
   "id": "0a922816-bb4c-4897-8b31-2b9ddba9379e",
   "metadata": {},
   "outputs": [
    {
     "data": {
      "text/plain": [
       "2"
      ]
     },
     "execution_count": 7,
     "metadata": {},
     "output_type": "execute_result"
    }
   ],
   "source": [
    "1 + 1"
   ]
  },
  {
   "cell_type": "code",
   "execution_count": 9,
   "id": "7bd89ee0-0087-4904-827a-303383e3d2d8",
   "metadata": {},
   "outputs": [
    {
     "data": {
      "text/plain": [
       "3"
      ]
     },
     "execution_count": 9,
     "metadata": {},
     "output_type": "execute_result"
    }
   ],
   "source": [
    "1 * 3"
   ]
  },
  {
   "cell_type": "code",
   "execution_count": 11,
   "id": "0c15fd2b-6a55-4525-a523-ffa1de27d633",
   "metadata": {},
   "outputs": [
    {
     "data": {
      "text/plain": [
       "0.5"
      ]
     },
     "execution_count": 11,
     "metadata": {},
     "output_type": "execute_result"
    }
   ],
   "source": [
    "1 / 2"
   ]
  },
  {
   "cell_type": "code",
   "execution_count": 13,
   "id": "7b841035-f895-4fb8-8d56-e5035ae0e6ab",
   "metadata": {},
   "outputs": [
    {
     "data": {
      "text/plain": [
       "16"
      ]
     },
     "execution_count": 13,
     "metadata": {},
     "output_type": "execute_result"
    }
   ],
   "source": [
    "2 ** 4"
   ]
  },
  {
   "cell_type": "code",
   "execution_count": 15,
   "id": "87e2a7b8-dba3-4dbe-8c58-765488059d69",
   "metadata": {},
   "outputs": [
    {
     "data": {
      "text/plain": [
       "22"
      ]
     },
     "execution_count": 15,
     "metadata": {},
     "output_type": "execute_result"
    }
   ],
   "source": [
    "2 + 3 * 5 + 5"
   ]
  },
  {
   "cell_type": "code",
   "execution_count": 17,
   "id": "91a91f73-54bb-45ac-8c75-42965140d0f9",
   "metadata": {},
   "outputs": [
    {
     "data": {
      "text/plain": [
       "50"
      ]
     },
     "execution_count": 17,
     "metadata": {},
     "output_type": "execute_result"
    }
   ],
   "source": [
    "(2 + 3) * (5 + 5)"
   ]
  },
  {
   "cell_type": "code",
   "execution_count": 19,
   "id": "2a6dcd24-af04-4f2b-b75f-7003be8c6457",
   "metadata": {},
   "outputs": [
    {
     "data": {
      "text/plain": [
       "0"
      ]
     },
     "execution_count": 19,
     "metadata": {},
     "output_type": "execute_result"
    }
   ],
   "source": [
    "4 % 2"
   ]
  },
  {
   "cell_type": "code",
   "execution_count": 21,
   "id": "0bb373b9-bcaf-4951-be04-c9d5cbb3432d",
   "metadata": {},
   "outputs": [
    {
     "data": {
      "text/plain": [
       "1"
      ]
     },
     "execution_count": 21,
     "metadata": {},
     "output_type": "execute_result"
    }
   ],
   "source": [
    "5 % 2"
   ]
  },
  {
   "cell_type": "code",
   "execution_count": 23,
   "id": "34ac8665-e927-4cbc-93c1-49ac09e38886",
   "metadata": {},
   "outputs": [
    {
     "data": {
      "text/plain": [
       "0"
      ]
     },
     "execution_count": 23,
     "metadata": {},
     "output_type": "execute_result"
    }
   ],
   "source": [
    "8 % 2"
   ]
  },
  {
   "cell_type": "code",
   "execution_count": 25,
   "id": "fdd3e3b1-2002-41a3-8481-558a28bc35b2",
   "metadata": {},
   "outputs": [],
   "source": [
    "var = 2"
   ]
  },
  {
   "cell_type": "code",
   "execution_count": 27,
   "id": "cd5b60cd-9b7c-4668-93f3-d4585c3d4c86",
   "metadata": {},
   "outputs": [
    {
     "data": {
      "text/plain": [
       "2"
      ]
     },
     "execution_count": 27,
     "metadata": {},
     "output_type": "execute_result"
    }
   ],
   "source": [
    "var"
   ]
  },
  {
   "cell_type": "code",
   "execution_count": 29,
   "id": "969f9317-c75b-406c-af90-89abc42dad95",
   "metadata": {},
   "outputs": [],
   "source": [
    "x = 45\n",
    "y = 56"
   ]
  },
  {
   "cell_type": "code",
   "execution_count": 31,
   "id": "1683bcd7-a673-4485-8b5f-e717a5df674a",
   "metadata": {},
   "outputs": [
    {
     "data": {
      "text/plain": [
       "101"
      ]
     },
     "execution_count": 31,
     "metadata": {},
     "output_type": "execute_result"
    }
   ],
   "source": [
    "x + y"
   ]
  },
  {
   "cell_type": "code",
   "execution_count": 33,
   "id": "e1b84d56-f3ea-4c4e-adde-b9a927978dbd",
   "metadata": {},
   "outputs": [],
   "source": [
    "x = x + x"
   ]
  },
  {
   "cell_type": "code",
   "execution_count": 35,
   "id": "75dd0a11-6dee-4b91-94cb-3f820141dce9",
   "metadata": {},
   "outputs": [
    {
     "data": {
      "text/plain": [
       "90"
      ]
     },
     "execution_count": 35,
     "metadata": {},
     "output_type": "execute_result"
    }
   ],
   "source": [
    "x"
   ]
  },
  {
   "cell_type": "code",
   "execution_count": 37,
   "id": "92c31372-5cda-4392-ac50-1841c2e2d10a",
   "metadata": {},
   "outputs": [],
   "source": [
    "name_of_var = 12"
   ]
  },
  {
   "cell_type": "code",
   "execution_count": 39,
   "id": "c885a81c-ebd7-46f9-ba41-469108d2cecc",
   "metadata": {},
   "outputs": [],
   "source": [
    "# String (comment define)"
   ]
  },
  {
   "cell_type": "code",
   "execution_count": 41,
   "id": "99755464-7c9b-4892-9567-5e6fb08a7ae3",
   "metadata": {},
   "outputs": [
    {
     "data": {
      "text/plain": [
       "'single quote'"
      ]
     },
     "execution_count": 41,
     "metadata": {},
     "output_type": "execute_result"
    }
   ],
   "source": [
    "'single quote'"
   ]
  },
  {
   "cell_type": "code",
   "execution_count": 43,
   "id": "47770bef-45bd-4ccb-9968-912850045a21",
   "metadata": {},
   "outputs": [],
   "source": [
    "x = 'hello'"
   ]
  },
  {
   "cell_type": "code",
   "execution_count": 45,
   "id": "15437d4f-e35d-482f-b900-d6533fe3399d",
   "metadata": {},
   "outputs": [
    {
     "data": {
      "text/plain": [
       "'hello'"
      ]
     },
     "execution_count": 45,
     "metadata": {},
     "output_type": "execute_result"
    }
   ],
   "source": [
    "x"
   ]
  },
  {
   "cell_type": "code",
   "execution_count": 47,
   "id": "1113e6cf-2b90-468b-a1ab-398cb1fc02ee",
   "metadata": {},
   "outputs": [
    {
     "name": "stdout",
     "output_type": "stream",
     "text": [
      "hello\n"
     ]
    }
   ],
   "source": [
    "print(x)"
   ]
  },
  {
   "cell_type": "code",
   "execution_count": 49,
   "id": "7bf0563e-1530-4ed6-b9c2-2329d6ac7152",
   "metadata": {},
   "outputs": [],
   "source": [
    "age = 22\n",
    "name = 'pasindu malinda'"
   ]
  },
  {
   "cell_type": "code",
   "execution_count": 51,
   "id": "eb4cbb83-2073-4eee-9d9b-a514b806416b",
   "metadata": {},
   "outputs": [
    {
     "name": "stdout",
     "output_type": "stream",
     "text": [
      "my name is pasindu malinda and I am 22 years old.\n"
     ]
    }
   ],
   "source": [
    "print('my name is {} and I am {} years old.'.format(name, age))"
   ]
  },
  {
   "cell_type": "code",
   "execution_count": 53,
   "id": "10e5c212-adaa-4f40-87b2-c7d9f286062c",
   "metadata": {},
   "outputs": [
    {
     "name": "stdout",
     "output_type": "stream",
     "text": [
      "my name is pasindu malinda and I am 22 years old.\n"
     ]
    }
   ],
   "source": [
    "print(f'my name is {name} and I am {age} years old.')"
   ]
  },
  {
   "cell_type": "code",
   "execution_count": 55,
   "id": "92f03f8b-0a5f-4220-9de3-fb0572542ff2",
   "metadata": {},
   "outputs": [
    {
     "name": "stdout",
     "output_type": "stream",
     "text": [
      "my name is pasindu malinda and I am 22 years old.\n"
     ]
    }
   ],
   "source": [
    "print('my name is {one} and I am {two} years old.'.format(one = name, two = age))"
   ]
  },
  {
   "cell_type": "code",
   "execution_count": 57,
   "id": "ed36b9c5-6ff8-46d4-8a43-ccf82d16277b",
   "metadata": {},
   "outputs": [
    {
     "data": {
      "text/plain": [
       "'A'"
      ]
     },
     "execution_count": 57,
     "metadata": {},
     "output_type": "execute_result"
    }
   ],
   "source": [
    "# indexing\n",
    "\n",
    "s = 'ABCDEFGHIJKELMNOP'\n",
    "\n",
    "s[0]"
   ]
  },
  {
   "cell_type": "code",
   "execution_count": 59,
   "id": "d9a26bef-7f45-4f4a-a5aa-2084294d1259",
   "metadata": {},
   "outputs": [
    {
     "data": {
      "text/plain": [
       "'ABCDEFGHIJKELMNOP'"
      ]
     },
     "execution_count": 59,
     "metadata": {},
     "output_type": "execute_result"
    }
   ],
   "source": [
    "s[0:]"
   ]
  },
  {
   "cell_type": "code",
   "execution_count": 61,
   "id": "35b0cd94-f139-4563-9a6b-7f71766788ca",
   "metadata": {},
   "outputs": [
    {
     "data": {
      "text/plain": [
       "'ABC'"
      ]
     },
     "execution_count": 61,
     "metadata": {},
     "output_type": "execute_result"
    }
   ],
   "source": [
    "s[:3]"
   ]
  },
  {
   "cell_type": "code",
   "execution_count": 63,
   "id": "29d2c571-8871-4c20-b274-1c5f0dadb815",
   "metadata": {},
   "outputs": [
    {
     "data": {
      "text/plain": [
       "'DEF'"
      ]
     },
     "execution_count": 63,
     "metadata": {},
     "output_type": "execute_result"
    }
   ],
   "source": [
    "s[3:6]"
   ]
  },
  {
   "cell_type": "code",
   "execution_count": 65,
   "id": "f29ef7bd-fdfd-4368-9820-77323c2e2a21",
   "metadata": {},
   "outputs": [
    {
     "data": {
      "text/plain": [
       "[1, 2, 3, 4, 5]"
      ]
     },
     "execution_count": 65,
     "metadata": {},
     "output_type": "execute_result"
    }
   ],
   "source": [
    "# list\n",
    "\n",
    "[1, 2, 3, 4, 5]"
   ]
  },
  {
   "cell_type": "code",
   "execution_count": 67,
   "id": "b22f4d63-952b-4d47-8f5f-e03b9ee23e34",
   "metadata": {},
   "outputs": [
    {
     "name": "stdout",
     "output_type": "stream",
     "text": [
      "['A', 'B', 'C', 'D', 'E', 'F', 'G']\n"
     ]
    }
   ],
   "source": [
    "my_list = ['A', 'B', 'C', 'D', 'E', 'F']\n",
    "\n",
    "my_list.append('G')\n",
    "\n",
    "print(my_list)"
   ]
  },
  {
   "cell_type": "code",
   "execution_count": 69,
   "id": "e1df001d-3df4-4d72-9cf9-7363d926ef84",
   "metadata": {},
   "outputs": [
    {
     "data": {
      "text/plain": [
       "['B', 'C', 'D']"
      ]
     },
     "execution_count": 69,
     "metadata": {},
     "output_type": "execute_result"
    }
   ],
   "source": [
    "my_list[1:4]"
   ]
  },
  {
   "cell_type": "code",
   "execution_count": 71,
   "id": "2e794a02-3898-4f4d-aaba-d2d48e703da7",
   "metadata": {},
   "outputs": [],
   "source": [
    "# change the value\n",
    "\n",
    "my_list[0] = 'NEW'"
   ]
  },
  {
   "cell_type": "code",
   "execution_count": 73,
   "id": "cd7027b9-6138-43c2-85c3-54e2e9cbc955",
   "metadata": {},
   "outputs": [
    {
     "name": "stdout",
     "output_type": "stream",
     "text": [
      "['NEW', 'B', 'C', 'D', 'E', 'F', 'G']\n"
     ]
    }
   ],
   "source": [
    "print(my_list)"
   ]
  },
  {
   "cell_type": "code",
   "execution_count": 77,
   "id": "dff7cf55-2fd2-4fef-b035-546171635bde",
   "metadata": {},
   "outputs": [
    {
     "data": {
      "text/plain": [
       "[3, 4]"
      ]
     },
     "execution_count": 77,
     "metadata": {},
     "output_type": "execute_result"
    }
   ],
   "source": [
    "# nested list\n",
    "\n",
    "nest = [1, 2, [3, 4]]\n",
    "\n",
    "nest[2]"
   ]
  },
  {
   "cell_type": "code",
   "execution_count": 81,
   "id": "b0139773-c4d2-4180-b46a-544f06ed0b25",
   "metadata": {},
   "outputs": [
    {
     "data": {
      "text/plain": [
       "4"
      ]
     },
     "execution_count": 81,
     "metadata": {},
     "output_type": "execute_result"
    }
   ],
   "source": [
    "nest[2][1]"
   ]
  },
  {
   "cell_type": "code",
   "execution_count": 83,
   "id": "5273d01a-c49c-4641-829b-9a2feb0c1ae7",
   "metadata": {},
   "outputs": [
    {
     "data": {
      "text/plain": [
       "['target']"
      ]
     },
     "execution_count": 83,
     "metadata": {},
     "output_type": "execute_result"
    }
   ],
   "source": [
    "nest_02 = [1, 2, 3, [4, 5, ['target']]]\n",
    "\n",
    "nest_02[3][2]"
   ]
  },
  {
   "cell_type": "code",
   "execution_count": 87,
   "id": "87860291-27c9-4f28-bd81-b7f14757cfca",
   "metadata": {},
   "outputs": [
    {
     "name": "stdout",
     "output_type": "stream",
     "text": [
      "value\n"
     ]
    }
   ],
   "source": [
    "# dectionary\n",
    "\n",
    "d = {'key1': 'value', 'key2' : 123}\n",
    "\n",
    "print(d['key1'])"
   ]
  },
  {
   "cell_type": "code",
   "execution_count": 89,
   "id": "869db9fe-0fd5-4d67-b65f-450e7d5eb872",
   "metadata": {},
   "outputs": [
    {
     "name": "stdout",
     "output_type": "stream",
     "text": [
      "123\n"
     ]
    }
   ],
   "source": [
    "print(d['key2'])"
   ]
  },
  {
   "cell_type": "code",
   "execution_count": 91,
   "id": "5051bf0a-cf0f-4a20-8a6f-9d5914c8f5ce",
   "metadata": {},
   "outputs": [
    {
     "data": {
      "text/plain": [
       "[1, 2, 3]"
      ]
     },
     "execution_count": 91,
     "metadata": {},
     "output_type": "execute_result"
    }
   ],
   "source": [
    "d1 = {'k1' : [1, 2, 3]}\n",
    "\n",
    "d1['k1']"
   ]
  },
  {
   "cell_type": "code",
   "execution_count": 93,
   "id": "d32a087a-47d4-4baf-856e-6cabb29e8451",
   "metadata": {},
   "outputs": [
    {
     "data": {
      "text/plain": [
       "3"
      ]
     },
     "execution_count": 93,
     "metadata": {},
     "output_type": "execute_result"
    }
   ],
   "source": [
    "d1['k1'][2]"
   ]
  },
  {
   "cell_type": "code",
   "execution_count": 99,
   "id": "62e766d0-bc6a-4cac-a561-8e82b2f0e254",
   "metadata": {},
   "outputs": [
    {
     "name": "stdout",
     "output_type": "stream",
     "text": [
      "[1, 2, 3]\n"
     ]
    }
   ],
   "source": [
    "my_list02 = d1['k1']\n",
    "print(my_list02)"
   ]
  },
  {
   "cell_type": "code",
   "execution_count": 103,
   "id": "969042f3-d8f9-443a-9fa5-10013b0416c2",
   "metadata": {},
   "outputs": [
    {
     "name": "stdout",
     "output_type": "stream",
     "text": [
      "2\n"
     ]
    }
   ],
   "source": [
    "d2 = {'k2' : {'Innerkey1' : [1, 2, 3, 4, 5]}}\n",
    "\n",
    "print(d2['k2']['Innerkey1'][1])"
   ]
  },
  {
   "cell_type": "code",
   "execution_count": 105,
   "id": "ebdf27e9-9592-4f3c-b869-8d7b073a0630",
   "metadata": {},
   "outputs": [
    {
     "data": {
      "text/plain": [
       "(True, False)"
      ]
     },
     "execution_count": 105,
     "metadata": {},
     "output_type": "execute_result"
    }
   ],
   "source": [
    "# Boolean values\n",
    "\n",
    "True, False"
   ]
  },
  {
   "cell_type": "code",
   "execution_count": null,
   "id": "83c56472-1687-482d-98c2-bd04ead14fb6",
   "metadata": {},
   "outputs": [],
   "source": []
  }
 ],
 "metadata": {
  "kernelspec": {
   "display_name": "Python 3 (ipykernel)",
   "language": "python",
   "name": "python3"
  },
  "language_info": {
   "codemirror_mode": {
    "name": "ipython",
    "version": 3
   },
   "file_extension": ".py",
   "mimetype": "text/x-python",
   "name": "python",
   "nbconvert_exporter": "python",
   "pygments_lexer": "ipython3",
   "version": "3.12.4"
  }
 },
 "nbformat": 4,
 "nbformat_minor": 5
}
