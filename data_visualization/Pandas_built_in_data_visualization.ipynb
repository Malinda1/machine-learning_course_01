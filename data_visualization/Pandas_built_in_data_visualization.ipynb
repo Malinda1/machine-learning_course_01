{
 "cells": [
  {
   "cell_type": "code",
   "execution_count": 5,
   "id": "c845e832-f99c-449e-aa88-ae7636a363d5",
   "metadata": {},
   "outputs": [],
   "source": [
    "import pandas as pd\n",
    "import numpy as np\n",
    "import matplotlib.pyplot as plt\n",
    "import seaborn as sns\n",
    "\n",
    "%matplotlib inline"
   ]
  },
  {
   "cell_type": "code",
   "execution_count": 7,
   "id": "37ab6d7f-84f8-4d63-ae0c-286b9c6b4d1d",
   "metadata": {},
   "outputs": [],
   "source": [
    "df1 = pd.read_csv('df1', index_col = 0)\n",
    "df2 = pd.read_csv('df2')\n",
    "df3 = pd.read_csv('df3', index_col = 0)"
   ]
  },
  {
   "cell_type": "code",
   "execution_count": 9,
   "id": "1db7fc61-8f8a-4de3-a021-d9db5e624de4",
   "metadata": {},
   "outputs": [
    {
     "data": {
      "text/html": [
       "<div>\n",
       "<style scoped>\n",
       "    .dataframe tbody tr th:only-of-type {\n",
       "        vertical-align: middle;\n",
       "    }\n",
       "\n",
       "    .dataframe tbody tr th {\n",
       "        vertical-align: top;\n",
       "    }\n",
       "\n",
       "    .dataframe thead th {\n",
       "        text-align: right;\n",
       "    }\n",
       "</style>\n",
       "<table border=\"1\" class=\"dataframe\">\n",
       "  <thead>\n",
       "    <tr style=\"text-align: right;\">\n",
       "      <th></th>\n",
       "      <th>A</th>\n",
       "      <th>B</th>\n",
       "      <th>C</th>\n",
       "      <th>D</th>\n",
       "    </tr>\n",
       "  </thead>\n",
       "  <tbody>\n",
       "    <tr>\n",
       "      <th>2000-01-01</th>\n",
       "      <td>1.339091</td>\n",
       "      <td>-0.163643</td>\n",
       "      <td>-0.646443</td>\n",
       "      <td>1.041233</td>\n",
       "    </tr>\n",
       "    <tr>\n",
       "      <th>2000-01-02</th>\n",
       "      <td>-0.774984</td>\n",
       "      <td>0.137034</td>\n",
       "      <td>-0.882716</td>\n",
       "      <td>-2.253382</td>\n",
       "    </tr>\n",
       "    <tr>\n",
       "      <th>2000-01-03</th>\n",
       "      <td>-0.921037</td>\n",
       "      <td>-0.482943</td>\n",
       "      <td>-0.417100</td>\n",
       "      <td>0.478638</td>\n",
       "    </tr>\n",
       "    <tr>\n",
       "      <th>2000-01-04</th>\n",
       "      <td>-1.738808</td>\n",
       "      <td>-0.072973</td>\n",
       "      <td>0.056517</td>\n",
       "      <td>0.015085</td>\n",
       "    </tr>\n",
       "    <tr>\n",
       "      <th>2000-01-05</th>\n",
       "      <td>-0.905980</td>\n",
       "      <td>1.778576</td>\n",
       "      <td>0.381918</td>\n",
       "      <td>0.291436</td>\n",
       "    </tr>\n",
       "  </tbody>\n",
       "</table>\n",
       "</div>"
      ],
      "text/plain": [
       "                   A         B         C         D\n",
       "2000-01-01  1.339091 -0.163643 -0.646443  1.041233\n",
       "2000-01-02 -0.774984  0.137034 -0.882716 -2.253382\n",
       "2000-01-03 -0.921037 -0.482943 -0.417100  0.478638\n",
       "2000-01-04 -1.738808 -0.072973  0.056517  0.015085\n",
       "2000-01-05 -0.905980  1.778576  0.381918  0.291436"
      ]
     },
     "execution_count": 9,
     "metadata": {},
     "output_type": "execute_result"
    }
   ],
   "source": [
    "df1.head()"
   ]
  },
  {
   "cell_type": "code",
   "execution_count": 11,
   "id": "daef7dcf-dbe8-4684-acce-3d01dc958df7",
   "metadata": {},
   "outputs": [
    {
     "data": {
      "text/html": [
       "<div>\n",
       "<style scoped>\n",
       "    .dataframe tbody tr th:only-of-type {\n",
       "        vertical-align: middle;\n",
       "    }\n",
       "\n",
       "    .dataframe tbody tr th {\n",
       "        vertical-align: top;\n",
       "    }\n",
       "\n",
       "    .dataframe thead th {\n",
       "        text-align: right;\n",
       "    }\n",
       "</style>\n",
       "<table border=\"1\" class=\"dataframe\">\n",
       "  <thead>\n",
       "    <tr style=\"text-align: right;\">\n",
       "      <th></th>\n",
       "      <th>a</th>\n",
       "      <th>b</th>\n",
       "      <th>c</th>\n",
       "      <th>d</th>\n",
       "    </tr>\n",
       "  </thead>\n",
       "  <tbody>\n",
       "    <tr>\n",
       "      <th>0</th>\n",
       "      <td>0.039762</td>\n",
       "      <td>0.218517</td>\n",
       "      <td>0.103423</td>\n",
       "      <td>0.957904</td>\n",
       "    </tr>\n",
       "    <tr>\n",
       "      <th>1</th>\n",
       "      <td>0.937288</td>\n",
       "      <td>0.041567</td>\n",
       "      <td>0.899125</td>\n",
       "      <td>0.977680</td>\n",
       "    </tr>\n",
       "    <tr>\n",
       "      <th>2</th>\n",
       "      <td>0.780504</td>\n",
       "      <td>0.008948</td>\n",
       "      <td>0.557808</td>\n",
       "      <td>0.797510</td>\n",
       "    </tr>\n",
       "    <tr>\n",
       "      <th>3</th>\n",
       "      <td>0.672717</td>\n",
       "      <td>0.247870</td>\n",
       "      <td>0.264071</td>\n",
       "      <td>0.444358</td>\n",
       "    </tr>\n",
       "    <tr>\n",
       "      <th>4</th>\n",
       "      <td>0.053829</td>\n",
       "      <td>0.520124</td>\n",
       "      <td>0.552264</td>\n",
       "      <td>0.190008</td>\n",
       "    </tr>\n",
       "  </tbody>\n",
       "</table>\n",
       "</div>"
      ],
      "text/plain": [
       "          a         b         c         d\n",
       "0  0.039762  0.218517  0.103423  0.957904\n",
       "1  0.937288  0.041567  0.899125  0.977680\n",
       "2  0.780504  0.008948  0.557808  0.797510\n",
       "3  0.672717  0.247870  0.264071  0.444358\n",
       "4  0.053829  0.520124  0.552264  0.190008"
      ]
     },
     "execution_count": 11,
     "metadata": {},
     "output_type": "execute_result"
    }
   ],
   "source": [
    "df2.head()"
   ]
  },
  {
   "cell_type": "code",
   "execution_count": 37,
   "id": "7af7f431-3011-4b6f-b191-adcc66aceba0",
   "metadata": {},
   "outputs": [
    {
     "data": {
      "text/plain": [
       "<Axes: >"
      ]
     },
     "execution_count": 37,
     "metadata": {},
     "output_type": "execute_result"
    },
    {
     "data": {
      "image/png": "[encoded data removed]",
      "text/plain": [
       "<Figure size 1000x700 with 1 Axes>"
      ]
     },
     "metadata": {},
     "output_type": "display_data"
    }
   ],
   "source": [
    "df1['A'].hist(bins = 20, edgecolor = 'black', grid = True, figsize = (10, 7))"
   ]
  },
  {
   "cell_type": "code",
   "execution_count": null,
   "id": "637aea3b-19a9-4f24-b3c4-8b87dd4d9f44",
   "metadata": {},
   "outputs": [],
   "source": []
  }
 ],
 "metadata": {
  "kernelspec": {
   "display_name": "Python 3 (ipykernel)",
   "language": "python",
   "name": "python3"
  },
  "language_info": {
   "codemirror_mode": {
    "name": "ipython",
    "version": 3
   },
   "file_extension": ".py",
   "mimetype": "text/x-python",
   "name": "python",
   "nbconvert_exporter": "python",
   "pygments_lexer": "ipython3",
   "version": "3.12.4"
  }
 },
 "nbformat": 4,
 "nbformat_minor": 5
}
