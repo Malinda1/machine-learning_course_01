{
 "cells": [
  {
   "cell_type": "code",
   "execution_count": 3,
   "id": "60bc9f6b-550d-444f-a3e0-0ec3f0b2c558",
   "metadata": {},
   "outputs": [],
   "source": [
    "import numpy as np"
   ]
  },
  {
   "cell_type": "markdown",
   "id": "1b008ab9-2bd3-43e4-9830-f6f86ffcf377",
   "metadata": {},
   "source": [
    " ### Numpy array"
   ]
  },
  {
   "cell_type": "code",
   "execution_count": 6,
   "id": "e1927003-dce2-4c47-9c15-d22b401a30f3",
   "metadata": {},
   "outputs": [
    {
     "data": {
      "text/plain": [
       "[1, 2, 3]"
      ]
     },
     "execution_count": 6,
     "metadata": {},
     "output_type": "execute_result"
    }
   ],
   "source": [
    "my_list = [1, 2, 3]\n",
    "my_list"
   ]
  },
  {
   "cell_type": "code",
   "execution_count": 8,
   "id": "6f6aad89-83cf-4b5b-ac04-3ecbc016ffba",
   "metadata": {},
   "outputs": [
    {
     "data": {
      "text/plain": [
       "array([1, 2, 3])"
      ]
     },
     "execution_count": 8,
     "metadata": {},
     "output_type": "execute_result"
    }
   ],
   "source": [
    "arr = np.array(my_list)\n",
    "arr"
   ]
  },
  {
   "cell_type": "code",
   "execution_count": 16,
   "id": "0f75b947-dfda-4269-a94a-d3f9d4c24eb0",
   "metadata": {},
   "outputs": [
    {
     "data": {
      "text/plain": [
       "1"
      ]
     },
     "execution_count": 16,
     "metadata": {},
     "output_type": "execute_result"
    }
   ],
   "source": [
    "arr.ndim"
   ]
  },
  {
   "cell_type": "code",
   "execution_count": 18,
   "id": "4cab6d2e-aed0-49ea-9878-ad02c07a84dd",
   "metadata": {},
   "outputs": [
    {
     "data": {
      "text/plain": [
       "[[1, 2, 3], [4, 5, 6], [7, 8, 9]]"
      ]
     },
     "execution_count": 18,
     "metadata": {},
     "output_type": "execute_result"
    }
   ],
   "source": [
    "array_m = [[1, 2, 3], [4, 5, 6], [7, 8, 9]]\n",
    "array_m"
   ]
  },
  {
   "cell_type": "code",
   "execution_count": 20,
   "id": "468a0fd3-fd1f-426e-abf2-9621682dc7bd",
   "metadata": {},
   "outputs": [
    {
     "data": {
      "text/plain": [
       "array([[1, 2, 3],\n",
       "       [4, 5, 6],\n",
       "       [7, 8, 9]])"
      ]
     },
     "execution_count": 20,
     "metadata": {},
     "output_type": "execute_result"
    }
   ],
   "source": [
    "np_array_m = np.array(array_m)\n",
    "np_array_m"
   ]
  },
  {
   "cell_type": "code",
   "execution_count": 22,
   "id": "d01e9518-ade1-40e1-b72c-ec4ecb964e24",
   "metadata": {},
   "outputs": [
    {
     "data": {
      "text/plain": [
       "2"
      ]
     },
     "execution_count": 22,
     "metadata": {},
     "output_type": "execute_result"
    }
   ],
   "source": [
    "np_array_m.ndim"
   ]
  },
  {
   "cell_type": "code",
   "execution_count": 26,
   "id": "5d80f519-91be-47f1-a685-5abef66b5261",
   "metadata": {},
   "outputs": [
    {
     "data": {
      "text/plain": [
       "array([ 0.,  1.,  2.,  3.,  4.,  5.,  6.,  7.,  8.,  9., 10.],\n",
       "      dtype=float32)"
      ]
     },
     "execution_count": 26,
     "metadata": {},
     "output_type": "execute_result"
    }
   ],
   "source": [
    "# Using arange() function to create own array\n",
    "\n",
    "np.arange(0, 11, dtype = np.float32)"
   ]
  },
  {
   "cell_type": "code",
   "execution_count": 28,
   "id": "d48da4cc-9e03-4efc-87ac-fa825d775045",
   "metadata": {},
   "outputs": [
    {
     "data": {
      "text/plain": [
       "array([ 0,  2,  4,  6,  8, 10], dtype=int32)"
      ]
     },
     "execution_count": 28,
     "metadata": {},
     "output_type": "execute_result"
    }
   ],
   "source": [
    "np.arange(0, 11, 2, dtype = np.int32)"
   ]
  },
  {
   "cell_type": "code",
   "execution_count": 30,
   "id": "dc82f469-f705-4f00-bdbb-7c2a742082a3",
   "metadata": {},
   "outputs": [
    {
     "data": {
      "text/plain": [
       "array([0., 0., 0.])"
      ]
     },
     "execution_count": 30,
     "metadata": {},
     "output_type": "execute_result"
    }
   ],
   "source": [
    "# Use zeros() function\n",
    "\n",
    "np.zeros(3)"
   ]
  },
  {
   "cell_type": "code",
   "execution_count": 32,
   "id": "115f9ec4-3105-482f-9da8-d272d0d34de9",
   "metadata": {},
   "outputs": [
    {
     "data": {
      "text/plain": [
       "array([[0., 0., 0., 0., 0., 0.],\n",
       "       [0., 0., 0., 0., 0., 0.],\n",
       "       [0., 0., 0., 0., 0., 0.],\n",
       "       [0., 0., 0., 0., 0., 0.],\n",
       "       [0., 0., 0., 0., 0., 0.]])"
      ]
     },
     "execution_count": 32,
     "metadata": {},
     "output_type": "execute_result"
    }
   ],
   "source": [
    "np.zeros((5, 6))"
   ]
  },
  {
   "cell_type": "code",
   "execution_count": 34,
   "id": "dfc518e7-8a7a-4428-8fb4-4a2e3278bb4b",
   "metadata": {},
   "outputs": [
    {
     "data": {
      "text/plain": [
       "array([[1., 1., 1., 1., 1., 1.],\n",
       "       [1., 1., 1., 1., 1., 1.],\n",
       "       [1., 1., 1., 1., 1., 1.],\n",
       "       [1., 1., 1., 1., 1., 1.],\n",
       "       [1., 1., 1., 1., 1., 1.]])"
      ]
     },
     "execution_count": 34,
     "metadata": {},
     "output_type": "execute_result"
    }
   ],
   "source": [
    "# Using ones() function\n",
    "\n",
    "np.ones((5, 6))"
   ]
  },
  {
   "cell_type": "code",
   "execution_count": 38,
   "id": "fc6370e6-0a39-4473-986b-fd2b6996dfce",
   "metadata": {},
   "outputs": [
    {
     "data": {
      "text/plain": [
       "array([0.        , 0.05050505, 0.1010101 , 0.15151516, 0.2020202 ,\n",
       "       0.25252524, 0.3030303 , 0.35353535, 0.4040404 , 0.45454547,\n",
       "       0.5050505 , 0.5555556 , 0.6060606 , 0.65656567, 0.7070707 ,\n",
       "       0.75757575, 0.8080808 , 0.85858583, 0.90909094, 0.959596  ,\n",
       "       1.010101  , 1.060606  , 1.1111112 , 1.1616162 , 1.2121212 ,\n",
       "       1.2626263 , 1.3131313 , 1.3636364 , 1.4141414 , 1.4646465 ,\n",
       "       1.5151515 , 1.5656565 , 1.6161616 , 1.6666666 , 1.7171717 ,\n",
       "       1.7676767 , 1.8181819 , 1.8686869 , 1.919192  , 1.969697  ,\n",
       "       2.020202  , 2.070707  , 2.121212  , 2.1717172 , 2.2222223 ,\n",
       "       2.2727273 , 2.3232324 , 2.3737373 , 2.4242425 , 2.4747474 ,\n",
       "       2.5252526 , 2.5757575 , 2.6262627 , 2.6767676 , 2.7272727 ,\n",
       "       2.7777777 , 2.8282828 , 2.878788  , 2.929293  , 2.979798  ,\n",
       "       3.030303  , 3.0808082 , 3.131313  , 3.1818182 , 3.2323232 ,\n",
       "       3.2828283 , 3.3333333 , 3.3838384 , 3.4343433 , 3.4848485 ,\n",
       "       3.5353534 , 3.5858586 , 3.6363637 , 3.6868687 , 3.7373738 ,\n",
       "       3.7878788 , 3.838384  , 3.8888888 , 3.939394  , 3.989899  ,\n",
       "       4.040404  , 4.090909  , 4.141414  , 4.1919193 , 4.242424  ,\n",
       "       4.292929  , 4.3434343 , 4.3939395 , 4.4444447 , 4.4949493 ,\n",
       "       4.5454545 , 4.5959597 , 4.646465  , 4.6969695 , 4.7474747 ,\n",
       "       4.79798   , 4.848485  , 4.8989897 , 4.949495  , 5.        ],\n",
       "      dtype=float32)"
      ]
     },
     "execution_count": 38,
     "metadata": {},
     "output_type": "execute_result"
    }
   ],
   "source": [
    "# linspace() function\n",
    "\n",
    "np.linspace(0, 5, 100, dtype = np.float32)"
   ]
  },
  {
   "cell_type": "code",
   "execution_count": 40,
   "id": "c7b7802d-de23-4e43-b91c-548b7328cda6",
   "metadata": {},
   "outputs": [
    {
     "data": {
      "text/plain": [
       "array([[1., 0., 0., 0.],\n",
       "       [0., 1., 0., 0.],\n",
       "       [0., 0., 1., 0.],\n",
       "       [0., 0., 0., 1.]])"
      ]
     },
     "execution_count": 40,
     "metadata": {},
     "output_type": "execute_result"
    }
   ],
   "source": [
    "np.eye(4)"
   ]
  },
  {
   "cell_type": "code",
   "execution_count": 44,
   "id": "879e37c9-b69c-4f74-ab2b-652f82be151d",
   "metadata": {},
   "outputs": [
    {
     "data": {
      "text/plain": [
       "array([[0.61486662, 0.16543047, 0.44335454, 0.50132597, 0.29080301],\n",
       "       [0.27634298, 0.99039789, 0.45220809, 0.34382093, 0.46806483],\n",
       "       [0.05012981, 0.33421804, 0.70542422, 0.16064699, 0.89319754],\n",
       "       [0.00912432, 0.07671449, 0.8840904 , 0.19207949, 0.22279635],\n",
       "       [0.89768972, 0.48339037, 0.21647876, 0.10092267, 0.57664775],\n",
       "       [0.79720595, 0.3431966 , 0.23474819, 0.22148128, 0.78165537]])"
      ]
     },
     "execution_count": 44,
     "metadata": {},
     "output_type": "execute_result"
    }
   ],
   "source": [
    "# Use this methond for create random number array\n",
    "\n",
    "np.random.rand(6, 5)"
   ]
  },
  {
   "cell_type": "code",
   "execution_count": 46,
   "id": "3bfa5fbd-8512-447b-ade1-1ccb139d036c",
   "metadata": {},
   "outputs": [
    {
     "data": {
      "text/plain": [
       "array([[-1.686535  ,  0.08351865, -0.38583373,  0.49168058, -0.38150388,\n",
       "        -0.73437955],\n",
       "       [-0.13322978,  0.37141334,  0.34877282,  0.37979255, -1.50414514,\n",
       "        -1.70651001],\n",
       "       [ 0.1122289 , -0.5734503 ,  0.44038344,  0.05633813,  0.94959961,\n",
       "         0.05860369],\n",
       "       [ 1.06152952, -0.8631943 ,  0.52682839, -0.05099809, -0.35069587,\n",
       "         0.96431403],\n",
       "       [ 0.55997815, -1.06875711, -0.73843802, -0.87463654, -0.71790421,\n",
       "        -0.41471165]])"
      ]
     },
     "execution_count": 46,
     "metadata": {},
     "output_type": "execute_result"
    }
   ],
   "source": [
    "# Use this methond we can create a random normaldistribution number \n",
    "\n",
    "np.random.randn(5, 6)"
   ]
  },
  {
   "cell_type": "code",
   "execution_count": 48,
   "id": "808c1036-d274-4467-a806-c46f98076db1",
   "metadata": {},
   "outputs": [
    {
     "data": {
      "text/plain": [
       "array([87, 20, 84, 47, 20, 93,  8, 77, 60, 45])"
      ]
     },
     "execution_count": 48,
     "metadata": {},
     "output_type": "execute_result"
    }
   ],
   "source": [
    "# Use this one for create a random integer number\n",
    "\n",
    "np.random.randint(1, 100, 10)"
   ]
  },
  {
   "cell_type": "code",
   "execution_count": 76,
   "id": "47af242f-c108-4f19-ad71-080d483049f4",
   "metadata": {},
   "outputs": [],
   "source": [
    "arr = np.arange(25)"
   ]
  },
  {
   "cell_type": "code",
   "execution_count": 78,
   "id": "15d4753a-06ec-4562-b08b-1f1023748052",
   "metadata": {},
   "outputs": [
    {
     "data": {
      "text/plain": [
       "array([ 0,  1,  2,  3,  4,  5,  6,  7,  8,  9, 10, 11, 12, 13, 14, 15, 16,\n",
       "       17, 18, 19, 20, 21, 22, 23, 24])"
      ]
     },
     "execution_count": 78,
     "metadata": {},
     "output_type": "execute_result"
    }
   ],
   "source": [
    "arr"
   ]
  },
  {
   "cell_type": "code",
   "execution_count": 66,
   "id": "4317096e-cfe2-41ac-b486-ddd54babfcfd",
   "metadata": {},
   "outputs": [],
   "source": [
    "randarr = np.random.randint(0, 50, 10)"
   ]
  },
  {
   "cell_type": "code",
   "execution_count": 68,
   "id": "724f9167-0436-41bb-93e7-47f23c15504f",
   "metadata": {},
   "outputs": [
    {
     "data": {
      "text/plain": [
       "array([10, 41, 26, 15,  7,  6, 43, 18, 40,  9])"
      ]
     },
     "execution_count": 68,
     "metadata": {},
     "output_type": "execute_result"
    }
   ],
   "source": [
    "randarr"
   ]
  },
  {
   "cell_type": "code",
   "execution_count": 80,
   "id": "c1601c0a-d99c-4499-ac7f-b257b086e801",
   "metadata": {},
   "outputs": [
    {
     "data": {
      "text/plain": [
       "array([[ 0,  1,  2,  3,  4],\n",
       "       [ 5,  6,  7,  8,  9],\n",
       "       [10, 11, 12, 13, 14],\n",
       "       [15, 16, 17, 18, 19],\n",
       "       [20, 21, 22, 23, 24]])"
      ]
     },
     "execution_count": 80,
     "metadata": {},
     "output_type": "execute_result"
    }
   ],
   "source": [
    "# Use this function to reshape array\n",
    "\n",
    "arr.reshape(5, 5)"
   ]
  },
  {
   "cell_type": "code",
   "execution_count": 82,
   "id": "f17f767e-eb30-42d1-82a8-9131d02d0d4f",
   "metadata": {},
   "outputs": [
    {
     "data": {
      "text/plain": [
       "43"
      ]
     },
     "execution_count": 82,
     "metadata": {},
     "output_type": "execute_result"
    }
   ],
   "source": [
    "randarr.max()"
   ]
  },
  {
   "cell_type": "code",
   "execution_count": 84,
   "id": "d3c06b95-6449-44a3-853e-9d860c34616d",
   "metadata": {},
   "outputs": [
    {
     "data": {
      "text/plain": [
       "6"
      ]
     },
     "execution_count": 84,
     "metadata": {},
     "output_type": "execute_result"
    }
   ],
   "source": [
    "randarr.min()"
   ]
  },
  {
   "cell_type": "code",
   "execution_count": 86,
   "id": "43f77240-d9e4-4031-bf1a-abc906205132",
   "metadata": {},
   "outputs": [
    {
     "data": {
      "text/plain": [
       "6"
      ]
     },
     "execution_count": 86,
     "metadata": {},
     "output_type": "execute_result"
    }
   ],
   "source": [
    "randarr.argmax()"
   ]
  },
  {
   "cell_type": "code",
   "execution_count": null,
   "id": "118a58f6-e96d-41db-a49b-bfaaa09a098d",
   "metadata": {},
   "outputs": [],
   "source": []
  }
 ],
 "metadata": {
  "kernelspec": {
   "display_name": "Python 3 (ipykernel)",
   "language": "python",
   "name": "python3"
  },
  "language_info": {
   "codemirror_mode": {
    "name": "ipython",
    "version": 3
   },
   "file_extension": ".py",
   "mimetype": "text/x-python",
   "name": "python",
   "nbconvert_exporter": "python",
   "pygments_lexer": "ipython3",
   "version": "3.12.4"
  }
 },
 "nbformat": 4,
 "nbformat_minor": 5
}
