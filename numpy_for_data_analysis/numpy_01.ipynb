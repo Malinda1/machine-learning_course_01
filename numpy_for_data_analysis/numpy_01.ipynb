{
 "cells": [
  {
   "cell_type": "code",
   "execution_count": 3,
   "id": "60bc9f6b-550d-444f-a3e0-0ec3f0b2c558",
   "metadata": {},
   "outputs": [],
   "source": [
    "import numpy as np"
   ]
  },
  {
   "cell_type": "markdown",
   "id": "1b008ab9-2bd3-43e4-9830-f6f86ffcf377",
   "metadata": {},
   "source": [
    " ### Numpy array"
   ]
  },
  {
   "cell_type": "code",
   "execution_count": 6,
   "id": "e1927003-dce2-4c47-9c15-d22b401a30f3",
   "metadata": {},
   "outputs": [
    {
     "data": {
      "text/plain": [
       "[1, 2, 3]"
      ]
     },
     "execution_count": 6,
     "metadata": {},
     "output_type": "execute_result"
    }
   ],
   "source": [
    "my_list = [1, 2, 3]\n",
    "my_list"
   ]
  },
  {
   "cell_type": "code",
   "execution_count": 8,
   "id": "6f6aad89-83cf-4b5b-ac04-3ecbc016ffba",
   "metadata": {},
   "outputs": [
    {
     "data": {
      "text/plain": [
       "array([1, 2, 3])"
      ]
     },
     "execution_count": 8,
     "metadata": {},
     "output_type": "execute_result"
    }
   ],
   "source": [
    "arr = np.array(my_list)\n",
    "arr"
   ]
  },
  {
   "cell_type": "code",
   "execution_count": 16,
   "id": "0f75b947-dfda-4269-a94a-d3f9d4c24eb0",
   "metadata": {},
   "outputs": [
    {
     "data": {
      "text/plain": [
       "1"
      ]
     },
     "execution_count": 16,
     "metadata": {},
     "output_type": "execute_result"
    }
   ],
   "source": [
    "arr.ndim"
   ]
  },
  {
   "cell_type": "code",
   "execution_count": 18,
   "id": "4cab6d2e-aed0-49ea-9878-ad02c07a84dd",
   "metadata": {},
   "outputs": [
    {
     "data": {
      "text/plain": [
       "[[1, 2, 3], [4, 5, 6], [7, 8, 9]]"
      ]
     },
     "execution_count": 18,
     "metadata": {},
     "output_type": "execute_result"
    }
   ],
   "source": [
    "array_m = [[1, 2, 3], [4, 5, 6], [7, 8, 9]]\n",
    "array_m"
   ]
  },
  {
   "cell_type": "code",
   "execution_count": 20,
   "id": "468a0fd3-fd1f-426e-abf2-9621682dc7bd",
   "metadata": {},
   "outputs": [
    {
     "data": {
      "text/plain": [
       "array([[1, 2, 3],\n",
       "       [4, 5, 6],\n",
       "       [7, 8, 9]])"
      ]
     },
     "execution_count": 20,
     "metadata": {},
     "output_type": "execute_result"
    }
   ],
   "source": [
    "np_array_m = np.array(array_m)\n",
    "np_array_m"
   ]
  },
  {
   "cell_type": "code",
   "execution_count": 22,
   "id": "d01e9518-ade1-40e1-b72c-ec4ecb964e24",
   "metadata": {},
   "outputs": [
    {
     "data": {
      "text/plain": [
       "2"
      ]
     },
     "execution_count": 22,
     "metadata": {},
     "output_type": "execute_result"
    }
   ],
   "source": [
    "np_array_m.ndim"
   ]
  },
  {
   "cell_type": "code",
   "execution_count": 26,
   "id": "5d80f519-91be-47f1-a685-5abef66b5261",
   "metadata": {},
   "outputs": [
    {
     "data": {
      "text/plain": [
       "array([ 0.,  1.,  2.,  3.,  4.,  5.,  6.,  7.,  8.,  9., 10.],\n",
       "      dtype=float32)"
      ]
     },
     "execution_count": 26,
     "metadata": {},
     "output_type": "execute_result"
    }
   ],
   "source": [
    "# Using arange() function to create own array\n",
    "\n",
    "np.arange(0, 11, dtype = np.float32)"
   ]
  },
  {
   "cell_type": "code",
   "execution_count": 28,
   "id": "d48da4cc-9e03-4efc-87ac-fa825d775045",
   "metadata": {},
   "outputs": [
    {
     "data": {
      "text/plain": [
       "array([ 0,  2,  4,  6,  8, 10], dtype=int32)"
      ]
     },
     "execution_count": 28,
     "metadata": {},
     "output_type": "execute_result"
    }
   ],
   "source": [
    "np.arange(0, 11, 2, dtype = np.int32)"
   ]
  },
  {
   "cell_type": "code",
   "execution_count": 30,
   "id": "dc82f469-f705-4f00-bdbb-7c2a742082a3",
   "metadata": {},
   "outputs": [
    {
     "data": {
      "text/plain": [
       "array([0., 0., 0.])"
      ]
     },
     "execution_count": 30,
     "metadata": {},
     "output_type": "execute_result"
    }
   ],
   "source": [
    "# Use zeros() function\n",
    "\n",
    "np.zeros(3)"
   ]
  },
  {
   "cell_type": "code",
   "execution_count": 32,
   "id": "115f9ec4-3105-482f-9da8-d272d0d34de9",
   "metadata": {},
   "outputs": [
    {
     "data": {
      "text/plain": [
       "array([[0., 0., 0., 0., 0., 0.],\n",
       "       [0., 0., 0., 0., 0., 0.],\n",
       "       [0., 0., 0., 0., 0., 0.],\n",
       "       [0., 0., 0., 0., 0., 0.],\n",
       "       [0., 0., 0., 0., 0., 0.]])"
      ]
     },
     "execution_count": 32,
     "metadata": {},
     "output_type": "execute_result"
    }
   ],
   "source": [
    "np.zeros((5, 6))"
   ]
  },
  {
   "cell_type": "code",
   "execution_count": 34,
   "id": "dfc518e7-8a7a-4428-8fb4-4a2e3278bb4b",
   "metadata": {},
   "outputs": [
    {
     "data": {
      "text/plain": [
       "array([[1., 1., 1., 1., 1., 1.],\n",
       "       [1., 1., 1., 1., 1., 1.],\n",
       "       [1., 1., 1., 1., 1., 1.],\n",
       "       [1., 1., 1., 1., 1., 1.],\n",
       "       [1., 1., 1., 1., 1., 1.]])"
      ]
     },
     "execution_count": 34,
     "metadata": {},
     "output_type": "execute_result"
    }
   ],
   "source": [
    "# Using ones() function\n",
    "\n",
    "np.ones((5, 6))"
   ]
  },
  {
   "cell_type": "code",
   "execution_count": 38,
   "id": "fc6370e6-0a39-4473-986b-fd2b6996dfce",
   "metadata": {},
   "outputs": [
    {
     "data": {
      "text/plain": [
       "array([0.        , 0.05050505, 0.1010101 , 0.15151516, 0.2020202 ,\n",
       "       0.25252524, 0.3030303 , 0.35353535, 0.4040404 , 0.45454547,\n",
       "       0.5050505 , 0.5555556 , 0.6060606 , 0.65656567, 0.7070707 ,\n",
       "       0.75757575, 0.8080808 , 0.85858583, 0.90909094, 0.959596  ,\n",
       "       1.010101  , 1.060606  , 1.1111112 , 1.1616162 , 1.2121212 ,\n",
       "       1.2626263 , 1.3131313 , 1.3636364 , 1.4141414 , 1.4646465 ,\n",
       "       1.5151515 , 1.5656565 , 1.6161616 , 1.6666666 , 1.7171717 ,\n",
       "       1.7676767 , 1.8181819 , 1.8686869 , 1.919192  , 1.969697  ,\n",
       "       2.020202  , 2.070707  , 2.121212  , 2.1717172 , 2.2222223 ,\n",
       "       2.2727273 , 2.3232324 , 2.3737373 , 2.4242425 , 2.4747474 ,\n",
       "       2.5252526 , 2.5757575 , 2.6262627 , 2.6767676 , 2.7272727 ,\n",
       "       2.7777777 , 2.8282828 , 2.878788  , 2.929293  , 2.979798  ,\n",
       "       3.030303  , 3.0808082 , 3.131313  , 3.1818182 , 3.2323232 ,\n",
       "       3.2828283 , 3.3333333 , 3.3838384 , 3.4343433 , 3.4848485 ,\n",
       "       3.5353534 , 3.5858586 , 3.6363637 , 3.6868687 , 3.7373738 ,\n",
       "       3.7878788 , 3.838384  , 3.8888888 , 3.939394  , 3.989899  ,\n",
       "       4.040404  , 4.090909  , 4.141414  , 4.1919193 , 4.242424  ,\n",
       "       4.292929  , 4.3434343 , 4.3939395 , 4.4444447 , 4.4949493 ,\n",
       "       4.5454545 , 4.5959597 , 4.646465  , 4.6969695 , 4.7474747 ,\n",
       "       4.79798   , 4.848485  , 4.8989897 , 4.949495  , 5.        ],\n",
       "      dtype=float32)"
      ]
     },
     "execution_count": 38,
     "metadata": {},
     "output_type": "execute_result"
    }
   ],
   "source": [
    "# linspace() function\n",
    "\n",
    "np.linspace(0, 5, 100, dtype = np.float32)"
   ]
  },
  {
   "cell_type": "code",
   "execution_count": 40,
   "id": "c7b7802d-de23-4e43-b91c-548b7328cda6",
   "metadata": {},
   "outputs": [
    {
     "data": {
      "text/plain": [
       "array([[1., 0., 0., 0.],\n",
       "       [0., 1., 0., 0.],\n",
       "       [0., 0., 1., 0.],\n",
       "       [0., 0., 0., 1.]])"
      ]
     },
     "execution_count": 40,
     "metadata": {},
     "output_type": "execute_result"
    }
   ],
   "source": [
    "np.eye(4)"
   ]
  },
  {
   "cell_type": "code",
   "execution_count": 44,
   "id": "879e37c9-b69c-4f74-ab2b-652f82be151d",
   "metadata": {},
   "outputs": [
    {
     "data": {
      "text/plain": [
       "array([[0.61486662, 0.16543047, 0.44335454, 0.50132597, 0.29080301],\n",
       "       [0.27634298, 0.99039789, 0.45220809, 0.34382093, 0.46806483],\n",
       "       [0.05012981, 0.33421804, 0.70542422, 0.16064699, 0.89319754],\n",
       "       [0.00912432, 0.07671449, 0.8840904 , 0.19207949, 0.22279635],\n",
       "       [0.89768972, 0.48339037, 0.21647876, 0.10092267, 0.57664775],\n",
       "       [0.79720595, 0.3431966 , 0.23474819, 0.22148128, 0.78165537]])"
      ]
     },
     "execution_count": 44,
     "metadata": {},
     "output_type": "execute_result"
    }
   ],
   "source": [
    "# Use this methond for create random number array\n",
    "\n",
    "np.random.rand(6, 5)"
   ]
  },
  {
   "cell_type": "code",
   "execution_count": 46,
   "id": "3bfa5fbd-8512-447b-ade1-1ccb139d036c",
   "metadata": {},
   "outputs": [
    {
     "data": {
      "text/plain": [
       "array([[-1.686535  ,  0.08351865, -0.38583373,  0.49168058, -0.38150388,\n",
       "        -0.73437955],\n",
       "       [-0.13322978,  0.37141334,  0.34877282,  0.37979255, -1.50414514,\n",
       "        -1.70651001],\n",
       "       [ 0.1122289 , -0.5734503 ,  0.44038344,  0.05633813,  0.94959961,\n",
       "         0.05860369],\n",
       "       [ 1.06152952, -0.8631943 ,  0.52682839, -0.05099809, -0.35069587,\n",
       "         0.96431403],\n",
       "       [ 0.55997815, -1.06875711, -0.73843802, -0.87463654, -0.71790421,\n",
       "        -0.41471165]])"
      ]
     },
     "execution_count": 46,
     "metadata": {},
     "output_type": "execute_result"
    }
   ],
   "source": [
    "# Use this methond we can create a random normaldistribution number \n",
    "\n",
    "np.random.randn(5, 6)"
   ]
  },
  {
   "cell_type": "code",
   "execution_count": 48,
   "id": "808c1036-d274-4467-a806-c46f98076db1",
   "metadata": {},
   "outputs": [
    {
     "data": {
      "text/plain": [
       "array([87, 20, 84, 47, 20, 93,  8, 77, 60, 45])"
      ]
     },
     "execution_count": 48,
     "metadata": {},
     "output_type": "execute_result"
    }
   ],
   "source": [
    "# Use this one for create a random integer number\n",
    "\n",
    "np.random.randint(1, 100, 10)"
   ]
  },
  {
   "cell_type": "code",
   "execution_count": 76,
   "id": "47af242f-c108-4f19-ad71-080d483049f4",
   "metadata": {},
   "outputs": [],
   "source": [
    "arr = np.arange(25)"
   ]
  },
  {
   "cell_type": "code",
   "execution_count": 78,
   "id": "15d4753a-06ec-4562-b08b-1f1023748052",
   "metadata": {},
   "outputs": [
    {
     "data": {
      "text/plain": [
       "array([ 0,  1,  2,  3,  4,  5,  6,  7,  8,  9, 10, 11, 12, 13, 14, 15, 16,\n",
       "       17, 18, 19, 20, 21, 22, 23, 24])"
      ]
     },
     "execution_count": 78,
     "metadata": {},
     "output_type": "execute_result"
    }
   ],
   "source": [
    "arr"
   ]
  },
  {
   "cell_type": "code",
   "execution_count": 66,
   "id": "4317096e-cfe2-41ac-b486-ddd54babfcfd",
   "metadata": {},
   "outputs": [],
   "source": [
    "randarr = np.random.randint(0, 50, 10)"
   ]
  },
  {
   "cell_type": "code",
   "execution_count": 68,
   "id": "724f9167-0436-41bb-93e7-47f23c15504f",
   "metadata": {},
   "outputs": [
    {
     "data": {
      "text/plain": [
       "array([10, 41, 26, 15,  7,  6, 43, 18, 40,  9])"
      ]
     },
     "execution_count": 68,
     "metadata": {},
     "output_type": "execute_result"
    }
   ],
   "source": [
    "randarr"
   ]
  },
  {
   "cell_type": "code",
   "execution_count": 80,
   "id": "c1601c0a-d99c-4499-ac7f-b257b086e801",
   "metadata": {},
   "outputs": [
    {
     "data": {
      "text/plain": [
       "array([[ 0,  1,  2,  3,  4],\n",
       "       [ 5,  6,  7,  8,  9],\n",
       "       [10, 11, 12, 13, 14],\n",
       "       [15, 16, 17, 18, 19],\n",
       "       [20, 21, 22, 23, 24]])"
      ]
     },
     "execution_count": 80,
     "metadata": {},
     "output_type": "execute_result"
    }
   ],
   "source": [
    "# Use this function to reshape array\n",
    "\n",
    "arr.reshape(5, 5)"
   ]
  },
  {
   "cell_type": "code",
   "execution_count": 82,
   "id": "f17f767e-eb30-42d1-82a8-9131d02d0d4f",
   "metadata": {},
   "outputs": [
    {
     "data": {
      "text/plain": [
       "43"
      ]
     },
     "execution_count": 82,
     "metadata": {},
     "output_type": "execute_result"
    }
   ],
   "source": [
    "randarr.max()"
   ]
  },
  {
   "cell_type": "code",
   "execution_count": 84,
   "id": "d3c06b95-6449-44a3-853e-9d860c34616d",
   "metadata": {},
   "outputs": [
    {
     "data": {
      "text/plain": [
       "6"
      ]
     },
     "execution_count": 84,
     "metadata": {},
     "output_type": "execute_result"
    }
   ],
   "source": [
    "randarr.min()"
   ]
  },
  {
   "cell_type": "code",
   "execution_count": 86,
   "id": "43f77240-d9e4-4031-bf1a-abc906205132",
   "metadata": {},
   "outputs": [
    {
     "data": {
      "text/plain": [
       "6"
      ]
     },
     "execution_count": 86,
     "metadata": {},
     "output_type": "execute_result"
    }
   ],
   "source": [
    "randarr.argmax()"
   ]
  },
  {
   "cell_type": "code",
   "execution_count": 88,
   "id": "118a58f6-e96d-41db-a49b-bfaaa09a098d",
   "metadata": {},
   "outputs": [
    {
     "data": {
      "text/plain": [
       "5"
      ]
     },
     "execution_count": 88,
     "metadata": {},
     "output_type": "execute_result"
    }
   ],
   "source": [
    "randarr.argmin()"
   ]
  },
  {
   "cell_type": "code",
   "execution_count": 92,
   "id": "2b8265bc-6d82-40b7-9ab0-c1d240fa26a6",
   "metadata": {},
   "outputs": [
    {
     "data": {
      "text/plain": [
       "dtype('int64')"
      ]
     },
     "execution_count": 92,
     "metadata": {},
     "output_type": "execute_result"
    }
   ],
   "source": [
    "randarr.dtype"
   ]
  },
  {
   "cell_type": "code",
   "execution_count": 94,
   "id": "c5f34904-8453-448c-af8f-0133c8552896",
   "metadata": {},
   "outputs": [
    {
     "data": {
      "text/plain": [
       "array([21,  2,  6, 93, 48, 85, 85, 17, 42, 54,  5, 67, 45, 78, 97, 80, 37,\n",
       "        1, 99, 46])"
      ]
     },
     "execution_count": 94,
     "metadata": {},
     "output_type": "execute_result"
    }
   ],
   "source": [
    "from numpy.random import randint\n",
    "\n",
    "randint(0, 100, 20)"
   ]
  },
  {
   "cell_type": "markdown",
   "id": "cdee809a-9e17-4ceb-8b35-ccbab41266d3",
   "metadata": {},
   "source": [
    "### Numpy indexing and selection"
   ]
  },
  {
   "cell_type": "code",
   "execution_count": 98,
   "id": "7ce78242-98ee-40d0-88a1-9b0bc35dd2ea",
   "metadata": {},
   "outputs": [
    {
     "data": {
      "text/plain": [
       "array([ 0,  1,  2,  3,  4,  5,  6,  7,  8,  9, 10])"
      ]
     },
     "execution_count": 98,
     "metadata": {},
     "output_type": "execute_result"
    }
   ],
   "source": [
    "arr = np.arange(0, 11)\n",
    "arr"
   ]
  },
  {
   "cell_type": "code",
   "execution_count": 100,
   "id": "6dde41cd-f013-4f4e-9d71-2932c6304de9",
   "metadata": {},
   "outputs": [
    {
     "data": {
      "text/plain": [
       "8"
      ]
     },
     "execution_count": 100,
     "metadata": {},
     "output_type": "execute_result"
    }
   ],
   "source": [
    "arr[8]"
   ]
  },
  {
   "cell_type": "code",
   "execution_count": 102,
   "id": "05c3072b-494a-4df1-8a51-629b7f4c3e7c",
   "metadata": {},
   "outputs": [
    {
     "data": {
      "text/plain": [
       "array([1, 2, 3, 4])"
      ]
     },
     "execution_count": 102,
     "metadata": {},
     "output_type": "execute_result"
    }
   ],
   "source": [
    "arr[1:5]"
   ]
  },
  {
   "cell_type": "code",
   "execution_count": 104,
   "id": "f5543c8f-3440-491a-8d09-c06a9391122d",
   "metadata": {},
   "outputs": [
    {
     "data": {
      "text/plain": [
       "array([0, 1, 2, 3, 4])"
      ]
     },
     "execution_count": 104,
     "metadata": {},
     "output_type": "execute_result"
    }
   ],
   "source": [
    "arr[0:5]"
   ]
  },
  {
   "cell_type": "code",
   "execution_count": 106,
   "id": "d1439a8c-b660-41e2-b453-3a61021fa4bb",
   "metadata": {},
   "outputs": [
    {
     "data": {
      "text/plain": [
       "array([0, 1, 2, 3, 4, 5])"
      ]
     },
     "execution_count": 106,
     "metadata": {},
     "output_type": "execute_result"
    }
   ],
   "source": [
    "arr[:6]"
   ]
  },
  {
   "cell_type": "code",
   "execution_count": 108,
   "id": "207baaf3-41a6-4920-b997-5f7bdb189f37",
   "metadata": {},
   "outputs": [
    {
     "data": {
      "text/plain": [
       "array([ 5,  6,  7,  8,  9, 10])"
      ]
     },
     "execution_count": 108,
     "metadata": {},
     "output_type": "execute_result"
    }
   ],
   "source": [
    "arr[5:]"
   ]
  },
  {
   "cell_type": "code",
   "execution_count": 110,
   "id": "a0eaab83-7989-48ec-b83e-25ea105c1e5f",
   "metadata": {},
   "outputs": [],
   "source": [
    "# borcasting\n",
    "\n",
    "arr[:5] = 100"
   ]
  },
  {
   "cell_type": "code",
   "execution_count": 112,
   "id": "db9c8a26-91a6-4979-bd23-7f19d939ed1c",
   "metadata": {},
   "outputs": [
    {
     "data": {
      "text/plain": [
       "array([100, 100, 100, 100, 100,   5,   6,   7,   8,   9,  10])"
      ]
     },
     "execution_count": 112,
     "metadata": {},
     "output_type": "execute_result"
    }
   ],
   "source": [
    "arr"
   ]
  },
  {
   "cell_type": "code",
   "execution_count": 114,
   "id": "03e8a819-91ac-4b5b-9357-bcc570c7cb1e",
   "metadata": {},
   "outputs": [
    {
     "data": {
      "text/plain": [
       "array([ 0,  1,  2,  3,  4,  5,  6,  7,  8,  9, 10])"
      ]
     },
     "execution_count": 114,
     "metadata": {},
     "output_type": "execute_result"
    }
   ],
   "source": [
    "arr = np.arange(0, 11)\n",
    "arr"
   ]
  },
  {
   "cell_type": "code",
   "execution_count": 116,
   "id": "069c722f-4cc2-452d-8fab-95f2fdb43d8b",
   "metadata": {},
   "outputs": [
    {
     "data": {
      "text/plain": [
       "array([0, 1, 2, 3, 4, 5])"
      ]
     },
     "execution_count": 116,
     "metadata": {},
     "output_type": "execute_result"
    }
   ],
   "source": [
    "slice_of_arr = arr[:6]\n",
    "slice_of_arr"
   ]
  },
  {
   "cell_type": "code",
   "execution_count": 118,
   "id": "11fd9a92-86ec-41a1-babc-fb907888cfb9",
   "metadata": {},
   "outputs": [
    {
     "data": {
      "text/plain": [
       "array([99, 99, 99, 99, 99, 99])"
      ]
     },
     "execution_count": 118,
     "metadata": {},
     "output_type": "execute_result"
    }
   ],
   "source": [
    "slice_of_arr[:] = 99\n",
    "slice_of_arr"
   ]
  },
  {
   "cell_type": "code",
   "execution_count": 124,
   "id": "aa9de94f-9358-40c0-a97d-0e6734f76a39",
   "metadata": {},
   "outputs": [],
   "source": [
    "arr_copy = arr.copy()"
   ]
  },
  {
   "cell_type": "code",
   "execution_count": 126,
   "id": "04781fb1-f816-46ff-93f9-fd1195bbed80",
   "metadata": {},
   "outputs": [
    {
     "data": {
      "text/plain": [
       "array([99, 99, 99, 99, 99, 99,  6,  7,  8,  9, 10])"
      ]
     },
     "execution_count": 126,
     "metadata": {},
     "output_type": "execute_result"
    }
   ],
   "source": [
    "arr_copy"
   ]
  },
  {
   "cell_type": "code",
   "execution_count": 128,
   "id": "f797ac28-1042-45c7-b023-ed7a3cbc1e15",
   "metadata": {},
   "outputs": [
    {
     "data": {
      "text/plain": [
       "array([99, 99, 99, 99, 99, 99,  6,  7,  8,  9, 10])"
      ]
     },
     "execution_count": 128,
     "metadata": {},
     "output_type": "execute_result"
    }
   ],
   "source": [
    "arr"
   ]
  },
  {
   "cell_type": "code",
   "execution_count": 132,
   "id": "519dc8e2-5f8f-40be-818a-a26652da0d46",
   "metadata": {},
   "outputs": [
    {
     "data": {
      "text/plain": [
       "array([100, 100, 100, 100, 100, 100, 100, 100, 100, 100, 100])"
      ]
     },
     "execution_count": 132,
     "metadata": {},
     "output_type": "execute_result"
    }
   ],
   "source": [
    "arr_copy[:] = 100\n",
    "arr_copy"
   ]
  },
  {
   "cell_type": "code",
   "execution_count": 134,
   "id": "bbe5ba2d-a226-4c8d-8fb8-7f7edb36e3c7",
   "metadata": {},
   "outputs": [
    {
     "data": {
      "text/plain": [
       "array([[ 5, 10, 15],\n",
       "       [20, 25, 30],\n",
       "       [35, 40, 45]])"
      ]
     },
     "execution_count": 134,
     "metadata": {},
     "output_type": "execute_result"
    }
   ],
   "source": [
    "# Indexing 2D array\n",
    "\n",
    "arr_2d = np.array([[5, 10, 15], [20, 25, 30], [35, 40, 45]])\n",
    "arr_2d"
   ]
  },
  {
   "cell_type": "code",
   "execution_count": 138,
   "id": "59f08ed3-4250-4398-b45e-422b33ce2714",
   "metadata": {},
   "outputs": [],
   "source": [
    "arr_2d_copy = arr_2d.copy()"
   ]
  },
  {
   "cell_type": "code",
   "execution_count": 142,
   "id": "68342488-7969-4f10-a461-081cbf8e285c",
   "metadata": {},
   "outputs": [
    {
     "data": {
      "text/plain": [
       "5"
      ]
     },
     "execution_count": 142,
     "metadata": {},
     "output_type": "execute_result"
    }
   ],
   "source": [
    "arr_2d[0][0]"
   ]
  },
  {
   "cell_type": "code",
   "execution_count": 144,
   "id": "11f3b91d-a7dd-44c9-935c-dd9692bb0545",
   "metadata": {},
   "outputs": [
    {
     "data": {
      "text/plain": [
       "40"
      ]
     },
     "execution_count": 144,
     "metadata": {},
     "output_type": "execute_result"
    }
   ],
   "source": [
    "arr_2d[2][1]"
   ]
  },
  {
   "cell_type": "code",
   "execution_count": 146,
   "id": "3e1e7505-ab16-4f81-9752-ddee3557d1ee",
   "metadata": {},
   "outputs": [
    {
     "data": {
      "text/plain": [
       "40"
      ]
     },
     "execution_count": 146,
     "metadata": {},
     "output_type": "execute_result"
    }
   ],
   "source": [
    "arr_2d[2, 1]"
   ]
  },
  {
   "cell_type": "code",
   "execution_count": 148,
   "id": "a7782d30-44e6-4e5c-a989-d332cdf94655",
   "metadata": {},
   "outputs": [
    {
     "data": {
      "text/plain": [
       "array([[10, 15],\n",
       "       [25, 30]])"
      ]
     },
     "execution_count": 148,
     "metadata": {},
     "output_type": "execute_result"
    }
   ],
   "source": [
    "arr_2d[:2, 1:]"
   ]
  },
  {
   "cell_type": "code",
   "execution_count": 152,
   "id": "fb9b230f-8fb8-4c30-b86c-922d694d4722",
   "metadata": {},
   "outputs": [
    {
     "data": {
      "text/plain": [
       "array([[ 5, 10, 15],\n",
       "       [20, 25, 30]])"
      ]
     },
     "execution_count": 152,
     "metadata": {},
     "output_type": "execute_result"
    }
   ],
   "source": [
    "arr_2d[:2]"
   ]
  },
  {
   "cell_type": "code",
   "execution_count": 158,
   "id": "9f08c338-2e40-40af-b598-87afb2139f3f",
   "metadata": {},
   "outputs": [
    {
     "data": {
      "text/plain": [
       "array([ 1,  2,  3,  4,  5,  6,  7,  8,  9, 10])"
      ]
     },
     "execution_count": 158,
     "metadata": {},
     "output_type": "execute_result"
    }
   ],
   "source": [
    "arr = np.arange(1,11)\n",
    "arr"
   ]
  },
  {
   "cell_type": "code",
   "execution_count": 160,
   "id": "4de98ccc-7ad9-4824-a140-ddaa572740b1",
   "metadata": {},
   "outputs": [
    {
     "data": {
      "text/plain": [
       "array([False, False, False, False, False,  True,  True,  True,  True,\n",
       "        True])"
      ]
     },
     "execution_count": 160,
     "metadata": {},
     "output_type": "execute_result"
    }
   ],
   "source": [
    "bool_arr = arr > 5\n",
    "bool_arr"
   ]
  },
  {
   "cell_type": "code",
   "execution_count": 162,
   "id": "33e79e7e-b744-47fa-ba83-47fdc28708ab",
   "metadata": {},
   "outputs": [
    {
     "data": {
      "text/plain": [
       "array([ 6,  7,  8,  9, 10])"
      ]
     },
     "execution_count": 162,
     "metadata": {},
     "output_type": "execute_result"
    }
   ],
   "source": [
    "arr[bool_arr]"
   ]
  },
  {
   "cell_type": "code",
   "execution_count": 164,
   "id": "bee3b5b5-835f-4593-b1c2-cc0c9b86b185",
   "metadata": {},
   "outputs": [
    {
     "data": {
      "text/plain": [
       "array([ 6,  7,  8,  9, 10])"
      ]
     },
     "execution_count": 164,
     "metadata": {},
     "output_type": "execute_result"
    }
   ],
   "source": [
    "arr[arr > 5]"
   ]
  },
  {
   "cell_type": "code",
   "execution_count": 166,
   "id": "ea7e6e89-c7ba-46aa-9b49-aada3f4da2de",
   "metadata": {},
   "outputs": [
    {
     "data": {
      "text/plain": [
       "array([[ 0,  1,  2,  3,  4,  5,  6,  7,  8,  9],\n",
       "       [10, 11, 12, 13, 14, 15, 16, 17, 18, 19],\n",
       "       [20, 21, 22, 23, 24, 25, 26, 27, 28, 29],\n",
       "       [30, 31, 32, 33, 34, 35, 36, 37, 38, 39],\n",
       "       [40, 41, 42, 43, 44, 45, 46, 47, 48, 49]])"
      ]
     },
     "execution_count": 166,
     "metadata": {},
     "output_type": "execute_result"
    }
   ],
   "source": [
    "arr_2d = np.arange(50).reshape(5, 10)\n",
    "arr_2d"
   ]
  },
  {
   "cell_type": "code",
   "execution_count": 172,
   "id": "216fbcb3-7a65-45e1-97b6-c8905cbf0452",
   "metadata": {},
   "outputs": [
    {
     "data": {
      "text/plain": [
       "array([[13, 14],\n",
       "       [23, 24]])"
      ]
     },
     "execution_count": 172,
     "metadata": {},
     "output_type": "execute_result"
    }
   ],
   "source": [
    "arr_2d[1:3, 3:5]"
   ]
  },
  {
   "cell_type": "markdown",
   "id": "0d6e3c2f-dfd2-4a35-b024-30c0b07144c7",
   "metadata": {},
   "source": [
    "### Numpy array operations\n",
    "\n",
    "* Array with Array\n",
    "* Array eith Scalars\n",
    "* Universal Array Functions"
   ]
  },
  {
   "cell_type": "code",
   "execution_count": 177,
   "id": "3cd22fc5-0198-42b1-bd18-6c828c7f755b",
   "metadata": {},
   "outputs": [
    {
     "data": {
      "text/plain": [
       "array([ 0,  1,  2,  3,  4,  5,  6,  7,  8,  9, 10])"
      ]
     },
     "execution_count": 177,
     "metadata": {},
     "output_type": "execute_result"
    }
   ],
   "source": [
    "arr = np.arange(0, 11)\n",
    "arr"
   ]
  },
  {
   "cell_type": "code",
   "execution_count": 179,
   "id": "5d2ea162-05f7-4d99-8c3a-1ffd43d1960e",
   "metadata": {},
   "outputs": [
    {
     "data": {
      "text/plain": [
       "array([ 0,  2,  4,  6,  8, 10, 12, 14, 16, 18, 20])"
      ]
     },
     "execution_count": 179,
     "metadata": {},
     "output_type": "execute_result"
    }
   ],
   "source": [
    "arr + arr"
   ]
  },
  {
   "cell_type": "code",
   "execution_count": 181,
   "id": "76f4b2cc-8a81-441b-912a-ba90668e9f09",
   "metadata": {},
   "outputs": [
    {
     "data": {
      "text/plain": [
       "array([0, 0, 0, 0, 0, 0, 0, 0, 0, 0, 0])"
      ]
     },
     "execution_count": 181,
     "metadata": {},
     "output_type": "execute_result"
    }
   ],
   "source": [
    "arr - arr"
   ]
  },
  {
   "cell_type": "code",
   "execution_count": 185,
   "id": "e32f1b6e-783f-448e-bb87-a25d11b22dda",
   "metadata": {},
   "outputs": [
    {
     "data": {
      "text/plain": [
       "array([  0,   1,   4,   9,  16,  25,  36,  49,  64,  81, 100])"
      ]
     },
     "execution_count": 185,
     "metadata": {},
     "output_type": "execute_result"
    }
   ],
   "source": [
    "arr * arr"
   ]
  },
  {
   "cell_type": "code",
   "execution_count": 187,
   "id": "b1c11838-8f91-4f80-a150-cd0eba630f27",
   "metadata": {},
   "outputs": [
    {
     "data": {
      "text/plain": [
       "array([100, 101, 102, 103, 104, 105, 106, 107, 108, 109, 110])"
      ]
     },
     "execution_count": 187,
     "metadata": {},
     "output_type": "execute_result"
    }
   ],
   "source": [
    "# array with scalars\n",
    "\n",
    "arr + 100"
   ]
  },
  {
   "cell_type": "code",
   "execution_count": 189,
   "id": "536a4ad4-73ff-4c33-a031-dc86b76242fe",
   "metadata": {},
   "outputs": [
    {
     "data": {
      "text/plain": [
       "array([  0,  10,  20,  30,  40,  50,  60,  70,  80,  90, 100])"
      ]
     },
     "execution_count": 189,
     "metadata": {},
     "output_type": "execute_result"
    }
   ],
   "source": [
    "arr * 10"
   ]
  },
  {
   "cell_type": "code",
   "execution_count": 191,
   "id": "a307adca-9271-4f75-a0a3-0d828608bd7d",
   "metadata": {},
   "outputs": [
    {
     "name": "stderr",
     "output_type": "stream",
     "text": [
      "/var/folders/ng/y3jq4z5556l47rj1150jg7jm0000gn/T/ipykernel_41948/3001117470.py:1: RuntimeWarning: invalid value encountered in divide\n",
      "  arr / arr\n"
     ]
    },
    {
     "data": {
      "text/plain": [
       "array([nan,  1.,  1.,  1.,  1.,  1.,  1.,  1.,  1.,  1.,  1.])"
      ]
     },
     "execution_count": 191,
     "metadata": {},
     "output_type": "execute_result"
    }
   ],
   "source": [
    "arr / arr # we could seen runtime warnning because first element in the error 0 so it can't divid by 0 "
   ]
  },
  {
   "cell_type": "code",
   "execution_count": 193,
   "id": "da8b3bb4-7546-4183-bc3d-7d5abde07f79",
   "metadata": {},
   "outputs": [
    {
     "data": {
      "text/plain": [
       "array([0.        , 1.        , 1.41421356, 1.73205081, 2.        ,\n",
       "       2.23606798, 2.44948974, 2.64575131, 2.82842712, 3.        ,\n",
       "       3.16227766])"
      ]
     },
     "execution_count": 193,
     "metadata": {},
     "output_type": "execute_result"
    }
   ],
   "source": [
    "# Universal array function \n",
    "\n",
    "np.sqrt(arr)"
   ]
  },
  {
   "cell_type": "code",
   "execution_count": 195,
   "id": "ad720192-f3f9-43a2-9ed8-a9f392b4f7f9",
   "metadata": {},
   "outputs": [
    {
     "data": {
      "text/plain": [
       "array([1.00000000e+00, 2.71828183e+00, 7.38905610e+00, 2.00855369e+01,\n",
       "       5.45981500e+01, 1.48413159e+02, 4.03428793e+02, 1.09663316e+03,\n",
       "       2.98095799e+03, 8.10308393e+03, 2.20264658e+04])"
      ]
     },
     "execution_count": 195,
     "metadata": {},
     "output_type": "execute_result"
    }
   ],
   "source": [
    "np.exp(arr)"
   ]
  },
  {
   "cell_type": "code",
   "execution_count": 197,
   "id": "af15ae8e-f21b-47a9-9ee4-73db50ba7df9",
   "metadata": {},
   "outputs": [
    {
     "data": {
      "text/plain": [
       "10"
      ]
     },
     "execution_count": 197,
     "metadata": {},
     "output_type": "execute_result"
    }
   ],
   "source": [
    "np.max(arr)"
   ]
  },
  {
   "cell_type": "code",
   "execution_count": 199,
   "id": "7496dc15-9bc7-4ddf-a005-602bb9dc8bc4",
   "metadata": {},
   "outputs": [
    {
     "data": {
      "text/plain": [
       "array([ 0.        ,  0.84147098,  0.90929743,  0.14112001, -0.7568025 ,\n",
       "       -0.95892427, -0.2794155 ,  0.6569866 ,  0.98935825,  0.41211849,\n",
       "       -0.54402111])"
      ]
     },
     "execution_count": 199,
     "metadata": {},
     "output_type": "execute_result"
    }
   ],
   "source": [
    "np.sin(arr)"
   ]
  },
  {
   "cell_type": "code",
   "execution_count": 201,
   "id": "dcb4fa58-66b0-4093-a601-8d0fe155360c",
   "metadata": {},
   "outputs": [
    {
     "name": "stderr",
     "output_type": "stream",
     "text": [
      "/var/folders/ng/y3jq4z5556l47rj1150jg7jm0000gn/T/ipykernel_41948/3120950136.py:1: RuntimeWarning: divide by zero encountered in log\n",
      "  np.log(arr)\n"
     ]
    },
    {
     "data": {
      "text/plain": [
       "array([      -inf, 0.        , 0.69314718, 1.09861229, 1.38629436,\n",
       "       1.60943791, 1.79175947, 1.94591015, 2.07944154, 2.19722458,\n",
       "       2.30258509])"
      ]
     },
     "execution_count": 201,
     "metadata": {},
     "output_type": "execute_result"
    }
   ],
   "source": [
    "np.log(arr)"
   ]
  },
  {
   "cell_type": "code",
   "execution_count": 205,
   "id": "785ca1ec-f4d9-4b71-9d39-9b083e185a43",
   "metadata": {},
   "outputs": [
    {
     "data": {
      "text/plain": [
       "array([[0.01, 0.02, 0.03, 0.04, 0.05, 0.06, 0.07, 0.08, 0.09, 0.1 ],\n",
       "       [0.11, 0.12, 0.13, 0.14, 0.15, 0.16, 0.17, 0.18, 0.19, 0.2 ],\n",
       "       [0.21, 0.22, 0.23, 0.24, 0.25, 0.26, 0.27, 0.28, 0.29, 0.3 ],\n",
       "       [0.31, 0.32, 0.33, 0.34, 0.35, 0.36, 0.37, 0.38, 0.39, 0.4 ],\n",
       "       [0.41, 0.42, 0.43, 0.44, 0.45, 0.46, 0.47, 0.48, 0.49, 0.5 ],\n",
       "       [0.51, 0.52, 0.53, 0.54, 0.55, 0.56, 0.57, 0.58, 0.59, 0.6 ],\n",
       "       [0.61, 0.62, 0.63, 0.64, 0.65, 0.66, 0.67, 0.68, 0.69, 0.7 ],\n",
       "       [0.71, 0.72, 0.73, 0.74, 0.75, 0.76, 0.77, 0.78, 0.79, 0.8 ],\n",
       "       [0.81, 0.82, 0.83, 0.84, 0.85, 0.86, 0.87, 0.88, 0.89, 0.9 ],\n",
       "       [0.91, 0.92, 0.93, 0.94, 0.95, 0.96, 0.97, 0.98, 0.99, 1.  ]])"
      ]
     },
     "execution_count": 205,
     "metadata": {},
     "output_type": "execute_result"
    }
   ],
   "source": [
    "np.arange(0.01, 1.01, 0.01).reshape(10, 10)"
   ]
  },
  {
   "cell_type": "code",
   "execution_count": 207,
   "id": "5a861efd-a2f3-47c3-82e4-ff55e48d8dba",
   "metadata": {},
   "outputs": [
    {
     "data": {
      "text/plain": [
       "array([[ 1,  2,  3,  4,  5],\n",
       "       [ 6,  7,  8,  9, 10],\n",
       "       [11, 12, 13, 14, 15],\n",
       "       [16, 17, 18, 19, 20],\n",
       "       [21, 22, 23, 24, 25]])"
      ]
     },
     "execution_count": 207,
     "metadata": {},
     "output_type": "execute_result"
    }
   ],
   "source": [
    "mat = np.arange(1,26).reshape(5,5)\n",
    "mat"
   ]
  },
  {
   "cell_type": "code",
   "execution_count": 213,
   "id": "74a7a030-718c-46d4-b750-0d7bca481f7d",
   "metadata": {},
   "outputs": [
    {
     "data": {
      "text/plain": [
       "array([[12, 13, 14, 15],\n",
       "       [17, 18, 19, 20],\n",
       "       [22, 23, 24, 25]])"
      ]
     },
     "execution_count": 213,
     "metadata": {},
     "output_type": "execute_result"
    }
   ],
   "source": [
    "mat[2:5, 1:5]"
   ]
  },
  {
   "cell_type": "code",
   "execution_count": 215,
   "id": "4c092606-e719-4721-9d98-3e33cb8f0cae",
   "metadata": {},
   "outputs": [
    {
     "data": {
      "text/plain": [
       "20"
      ]
     },
     "execution_count": 215,
     "metadata": {},
     "output_type": "execute_result"
    }
   ],
   "source": [
    "mat[3, 4]"
   ]
  },
  {
   "cell_type": "code",
   "execution_count": 221,
   "id": "31a7c79d-fc9c-4183-a766-8e2b4205a395",
   "metadata": {},
   "outputs": [
    {
     "data": {
      "text/plain": [
       "array([[ 2],\n",
       "       [ 7],\n",
       "       [12]])"
      ]
     },
     "execution_count": 221,
     "metadata": {},
     "output_type": "execute_result"
    }
   ],
   "source": [
    "mat[:3, 1].reshape(3, 1)"
   ]
  },
  {
   "cell_type": "code",
   "execution_count": 223,
   "id": "46316936-c5c1-456a-9bf5-8f9519b4c3d4",
   "metadata": {},
   "outputs": [
    {
     "data": {
      "text/plain": [
       "array([21, 22, 23, 24, 25])"
      ]
     },
     "execution_count": 223,
     "metadata": {},
     "output_type": "execute_result"
    }
   ],
   "source": [
    "mat[4]"
   ]
  },
  {
   "cell_type": "code",
   "execution_count": 237,
   "id": "fcb3a8b6-dd5b-48dd-80b7-d9164868d456",
   "metadata": {},
   "outputs": [
    {
     "data": {
      "text/plain": [
       "array([[16, 17, 18, 19, 20],\n",
       "       [21, 22, 23, 24, 25]])"
      ]
     },
     "execution_count": 237,
     "metadata": {},
     "output_type": "execute_result"
    }
   ],
   "source": [
    "mat[3:5].reshape(2, 5)"
   ]
  },
  {
   "cell_type": "code",
   "execution_count": null,
   "id": "11ee15f8-14a8-4644-b8e1-8fccc7f1c5a0",
   "metadata": {},
   "outputs": [],
   "source": []
  }
 ],
 "metadata": {
  "kernelspec": {
   "display_name": "Python 3 (ipykernel)",
   "language": "python",
   "name": "python3"
  },
  "language_info": {
   "codemirror_mode": {
    "name": "ipython",
    "version": 3
   },
   "file_extension": ".py",
   "mimetype": "text/x-python",
   "name": "python",
   "nbconvert_exporter": "python",
   "pygments_lexer": "ipython3",
   "version": "3.12.4"
  }
 },
 "nbformat": 4,
 "nbformat_minor": 5
}
